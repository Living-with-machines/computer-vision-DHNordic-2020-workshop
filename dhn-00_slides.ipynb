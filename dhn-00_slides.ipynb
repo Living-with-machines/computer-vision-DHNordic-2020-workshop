{
 "cells": [
  {
   "cell_type": "markdown",
   "metadata": {},
   "source": [
    "An introduction to computer vision for working with digitised heritage collections"
   ]
  },
  {
   "cell_type": "markdown",
   "metadata": {},
   "source": [
    "\n",
    "## Aims\n",
    "\n",
    "- Introduce computer vision methods for classifying images using deep learning\n",
    "- Show some example uses of computer vision in DH/GLAM settings \n",
    "- The process of training a model \n",
    "- Thinking about labels \n",
    "- Give a *starting* point for exploring the topic "
   ]
  },
  {
   "cell_type": "markdown",
   "metadata": {
    "hide_input": false
   },
   "source": [
    "\n",
    "## Disclaimer \n",
    "\n",
    "- You will not know computer vision by the end of this session\n",
    "- The course uses Python but it is not necessary to follow every step of the code\n",
    "- The course is a work in progress, any feedback on how useful it is (or not) would be hugely helpful \n",
    "- Some of the materials were developed in the context of Living with Machines \n"
   ]
  },
  {
   "cell_type": "markdown",
   "metadata": {},
   "source": [
    "# Schedule \n",
    "- [https://docs.google.com/document/d/1aECwN8wPOmk8Xlk8YIr0-HpDz7Gi7DYzdbOiXJPLAgY/edit?usp=sharing]()"
   ]
  },
  {
   "cell_type": "markdown",
   "metadata": {},
   "source": [
    "# What is computer vision?\n",
    "\n",
    "- A field of computer science research aimed at getting computers to work with visual data\n",
    "- Related to other fields including image processing, graphics etc. "
   ]
  },
  {
   "cell_type": "markdown",
   "metadata": {},
   "source": [
    "## Applications of computer vision"
   ]
  },
  {
   "cell_type": "markdown",
   "metadata": {},
   "source": [
    "# Optical Character Recognition \n",
    "\n",
    "<img src=\"https://postalmuseum.si.edu/sites/default/files/dsc_1532_03189.jpg\" width=\"400\"/>\n",
    "\n",
    "> Source: [https://postalmuseum.si.edu/exhibition/systems-at-work-the-exhibition/1988]()\n"
   ]
  },
  {
   "cell_type": "markdown",
   "metadata": {},
   "source": [
    "# Medical Imaging \n",
    "<img src=\"figs/tumor.png\" width=\"400\"/>\n",
    "> Source: [https://arxiv.org/abs/1811.02629]()"
   ]
  },
  {
   "cell_type": "markdown",
   "metadata": {},
   "source": [
    "# Self driving cars \n",
    "<img src=\"https://miro.medium.com/max/1024/1*URl8Xawv6biXul2XoIUwyQ.jpeg\" width=\"400\"/>"
   ]
  },
  {
   "cell_type": "markdown",
   "metadata": {},
   "source": [
    "# Applications of computer vision (digital) Humanities and Libraries \n",
    "\n",
    "- Optical Character Recognition \n",
    "- Document segmentation \n",
    "- Visual similarity \n",
    "- Image retrieval\n",
    "- Image classification "
   ]
  },
  {
   "cell_type": "markdown",
   "metadata": {},
   "source": [
    "# Machine Learning/Deep learning?\n",
    "\n",
    "- Tackling a problem by writing rules vs tacking a problem by creating labels\n",
    "- Today we'll look at classifying images as an example. \n",
    "- There are quite a few moving parts, so we will try and focus on the things which are most important to control initially. \n"
   ]
  }
 ],
 "metadata": {
  "kernelspec": {
   "display_name": "blog",
   "language": "python",
   "name": "blog"
  }
 },
 "nbformat": 4,
 "nbformat_minor": 4
}
