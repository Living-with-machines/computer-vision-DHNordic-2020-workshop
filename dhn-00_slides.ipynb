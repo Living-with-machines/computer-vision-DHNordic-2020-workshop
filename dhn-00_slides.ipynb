{
 "cells": [
  {
   "cell_type": "markdown",
   "metadata": {
    "slideshow": {
     "slide_type": "slide"
    }
   },
   "source": [
    "An introduction to computer vision for working with digitised heritage collections"
   ]
  },
  {
   "cell_type": "markdown",
   "metadata": {
    "slideshow": {
     "slide_type": "slide"
    }
   },
   "source": [
    "\n",
    "## Aims\n",
    "\n",
    "- Introduce computer vision methods for classifying images using deep learning\n",
    "- Show some example uses of computer vision in DH/GLAM settings \n",
    "- The process of training a model \n",
    "- Thinking about labels \n",
    "- Give a *starting* point for exploring the topic "
   ]
  },
  {
   "cell_type": "markdown",
   "metadata": {
    "hide_input": false,
    "slideshow": {
     "slide_type": "subslide"
    }
   },
   "source": [
    "\n",
    "## Disclaimer \n",
    "\n",
    "- You will not know computer vision by the end of this session\n",
    "- The course uses Python but it is not necessary to follow every step of the code\n",
    "- The course is a work in progress, any feedback on how useful it is (or not) would be hugely helpful \n",
    "- Some of the materials were developed in the context of Living with Machines \n"
   ]
  },
  {
   "cell_type": "markdown",
   "metadata": {
    "slideshow": {
     "slide_type": "notes"
    }
   },
   "source": [
    "# Schedule TODO"
   ]
  },
  {
   "cell_type": "markdown",
   "metadata": {},
   "source": [
    "# What is computer vision?\n",
    "\n",
    "- A field of computer science research aimed at getting computers to work with visual data\n",
    "- Related to other fields including image processing, graphics etc. "
   ]
  },
  {
   "cell_type": "markdown",
   "metadata": {
    "slideshow": {
     "slide_type": "slide"
    }
   },
   "source": [
    "## Applications of computer vision"
   ]
  },
  {
   "cell_type": "markdown",
   "metadata": {
    "slideshow": {
     "slide_type": "slide"
    }
   },
   "source": [
    "# Optical Character Recognition \n",
    "\n",
    "<img src=\"https://postalmuseum.si.edu/sites/default/files/dsc_1532_03189.jpg\" width=\"400\"/>\n",
    "\n",
    "> Source: [https://postalmuseum.si.edu/exhibition/systems-at-work-the-exhibition/1988]()\n"
   ]
  },
  {
   "cell_type": "markdown",
   "metadata": {
    "slideshow": {
     "slide_type": "slide"
    }
   },
   "source": [
    "# Medical Imaging \n",
    "<img src=\"figs/tumor.png\" width=\"400\"/>\n",
    "> Source: [https://arxiv.org/abs/1811.02629]()"
   ]
  },
  {
   "cell_type": "markdown",
   "metadata": {
    "slideshow": {
     "slide_type": "slide"
    }
   },
   "source": [
    "# Self driving cars \n",
    "<img src=\"https://miro.medium.com/max/1024/1*URl8Xawv6biXul2XoIUwyQ.jpeg\" width=\"400\"/>"
   ]
  },
  {
   "cell_type": "markdown",
   "metadata": {
    "slideshow": {
     "slide_type": "slide"
    }
   },
   "source": [
    "# Applications of computer vision (digital) Humanities and Libraries \n",
    "\n",
    "- Optical Character Recognition \n",
    "- Document segmentation \n",
    "- Visual similarity \n",
    "- Image retrieval\n",
    "- Image classification "
   ]
  },
  {
   "cell_type": "markdown",
   "metadata": {
    "slideshow": {
     "slide_type": "slide"
    }
   },
   "source": [
    "# Deep learning?\n",
    "\n",
    "- Tackling a problem by writing rules vs tacking a problem by creating labels\n",
    "- Today we'll look at classifying images as an example. \n"
   ]
  }
 ],
 "metadata": {
  "celltoolbar": "Slideshow",
  "kernelspec": {
   "display_name": "blog",
   "language": "python",
   "name": "blog"
  },
  "language_info": {
   "codemirror_mode": {
    "name": "ipython",
    "version": 3
   },
   "file_extension": ".py",
   "mimetype": "text/x-python",
   "name": "python",
   "nbconvert_exporter": "python",
   "pygments_lexer": "ipython3",
   "version": "3.8.5"
  },
  "toc-showtags": false
 },
 "nbformat": 4,
 "nbformat_minor": 4
}
